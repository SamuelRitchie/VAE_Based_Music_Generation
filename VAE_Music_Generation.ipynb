{
 "cells": [
  {
   "cell_type": "markdown",
   "metadata": {},
   "source": [
    "# Music generation VAES"
   ]
  },
  {
   "cell_type": "code",
   "execution_count": 50,
   "metadata": {},
   "outputs": [],
   "source": [
    "import numpy as np\n",
    "from pathlib import Path\n",
    "import IPython\n",
    "from keras import metrics\n",
    "from keras.callbacks import ReduceLROnPlateau, EarlyStopping, History\n",
    "import numpy as np\n",
    "from keras.models import Sequential, Model\n",
    "from keras.layers import LSTM, Dense, Embedding, Bidirectional, Dropout, Conv1D, \\\n",
    "    MaxPooling1D, Flatten, BatchNormalization, LeakyReLU, Lambda\n",
    "from keras.optimizers import Adam, RMSprop\n",
    "from keras.engine.topology import Input\n",
    "from keras import backend as K\n",
    "import cv2\n",
    "import matplotlib.pyplot as plt"
   ]
  },
  {
   "cell_type": "markdown",
   "metadata": {},
   "source": [
    "## I Signal Processing"
   ]
  },
  {
   "cell_type": "code",
   "execution_count": 58,
   "metadata": {},
   "outputs": [],
   "source": [
    "# Data imports and processing\n",
    "\n",
    "x_train, x_val = [], []\n",
    "p_train = Path(\"data/train\")\n",
    "p_val = Path(\"data/val\")\n",
    "data_train = list(p_train.glob(\"*.jpg\"))\n",
    "data_val = list(p_val.glob(\"*.jpg\"))\n",
    "data_train = [str(path) for path in data_train]\n",
    "data_val = [str(path) for path in data_val]\n",
    "\n",
    "for path in data_train:\n",
    "    im = cv2.imread(path)\n",
    "    im = im.astype('float32')\n",
    "    im = cv2.resize(im, (20, 20)) / 255\n",
    "    im = np.expand_dims(im, axis=0)\n",
    "    x_train.append(im)\n",
    "    \n",
    "for path in data_val:\n",
    "    im = cv2.imread(path)\n",
    "    im = im.astype('float32')\n",
    "    im = cv2.resize(im, (20, 20)) / 255\n",
    "    im = np.expand_dims(im, axis=0)\n",
    "    x_val.append(im)\n",
    "\n",
    "x_train = np.array(x_train)\n",
    "x_train = x_train.reshape((len(x_train), np.prod(x_train.shape[1:])))\n",
    "\n",
    "x_val = np.array(x_val)\n",
    "x_val = x_val.reshape((len(x_val), np.prod(x_val.shape[1:])))\n"
   ]
  },
  {
   "cell_type": "code",
   "execution_count": null,
   "metadata": {},
   "outputs": [],
   "source": [
    "# Preprocessing audio\n",
    "\n"
   ]
  },
  {
   "cell_type": "markdown",
   "metadata": {},
   "source": [
    "## II Model "
   ]
  },
  {
   "cell_type": "code",
   "execution_count": 80,
   "metadata": {},
   "outputs": [
    {
     "name": "stdout",
     "output_type": "stream",
     "text": [
      "Train on 93 samples, validate on 25 samples\n",
      "Epoch 1/50\n",
      "93/93 [==============================] - 2s 16ms/step - loss: 3647.8588 - val_loss: 3277.0770\n",
      "Epoch 2/50\n",
      "93/93 [==============================] - 0s 3ms/step - loss: 3632.8180 - val_loss: 3261.9715\n",
      "Epoch 3/50\n",
      "93/93 [==============================] - 0s 4ms/step - loss: 3624.1692 - val_loss: 3258.2367\n",
      "Epoch 4/50\n",
      "93/93 [==============================] - 0s 4ms/step - loss: 3620.0379 - val_loss: 3255.3545\n",
      "Epoch 5/50\n",
      "93/93 [==============================] - 0s 3ms/step - loss: 3617.6957 - val_loss: 3253.5731\n",
      "Epoch 6/50\n",
      "93/93 [==============================] - 0s 3ms/step - loss: 3612.7221 - val_loss: 3252.8782\n",
      "Epoch 7/50\n",
      "93/93 [==============================] - 0s 3ms/step - loss: 3607.8030 - val_loss: 3252.0064\n",
      "Epoch 8/50\n",
      "93/93 [==============================] - 0s 3ms/step - loss: 3605.8571 - val_loss: 3245.8635\n",
      "Epoch 9/50\n",
      "93/93 [==============================] - 0s 3ms/step - loss: 3600.0858 - val_loss: 3242.3874\n",
      "Epoch 10/50\n",
      "93/93 [==============================] - 0s 4ms/step - loss: 3595.4119 - val_loss: 3243.2873\n",
      "Epoch 11/50\n",
      "93/93 [==============================] - 0s 3ms/step - loss: 3592.0818 - val_loss: 3241.4301\n",
      "Epoch 12/50\n",
      "93/93 [==============================] - 0s 3ms/step - loss: 3592.4450 - val_loss: 3240.6669\n",
      "Epoch 13/50\n",
      "93/93 [==============================] - 0s 3ms/step - loss: 3585.3151 - val_loss: 3238.7077\n",
      "Epoch 14/50\n",
      "93/93 [==============================] - 0s 3ms/step - loss: 3581.2864 - val_loss: 3238.5634\n",
      "Epoch 15/50\n",
      "93/93 [==============================] - 0s 3ms/step - loss: 3576.9847 - val_loss: 3243.0359\n",
      "Epoch 16/50\n",
      "93/93 [==============================] - 1s 8ms/step - loss: 3576.1405 - val_loss: 3241.4134\n",
      "Epoch 17/50\n",
      "93/93 [==============================] - 0s 4ms/step - loss: 3574.8586 - val_loss: 3238.3190\n",
      "Epoch 18/50\n",
      "93/93 [==============================] - 0s 4ms/step - loss: 3571.1827 - val_loss: 3243.3965\n",
      "Epoch 19/50\n",
      "93/93 [==============================] - 0s 4ms/step - loss: 3567.2473 - val_loss: 3241.2367\n",
      "Epoch 20/50\n",
      "93/93 [==============================] - 0s 3ms/step - loss: 3563.3455 - val_loss: 3243.3647\n"
     ]
    }
   ],
   "source": [
    "# Essayer différentes activations, différentes profondeurs, différents types de couches\n",
    "\n",
    "class VAE:\n",
    "\n",
    "    def __init__(self, batch_size, epochs, original_dim=1200, \n",
    "                 latent_dim=100, intermediate_dim=100):\n",
    "        self.batch_size = batch_size\n",
    "        self.epochs = epochs\n",
    "        self.original_dim = original_dim\n",
    "        self.latent_dim = latent_dim\n",
    "        self.intermediate_dim = intermediate_dim\n",
    "        self.encoder = self.make_encoder()\n",
    "        self.sampling_layer = self.make_sampling_layer()\n",
    "        self.decoder = self.make_decoder()\n",
    "        self.vae_model = self.make_vae(self.sampling_layer, self.encoder, self.decoder)\n",
    "\n",
    "    def fit(self, x_train, x_val):\n",
    "        \"\"\"\n",
    "        Train the Vae using the Adam Optimizer. \n",
    "        \"\"\"\n",
    "        \n",
    "        early_stopping = EarlyStopping(monitor='val_loss',\n",
    "                                       patience=3,\n",
    "                                       mode='min')\n",
    "\n",
    "        reduce_lr = ReduceLROnPlateau(monitor='val_loss', factor=0.2,\n",
    "                                      patience=1, min_lr=0.001)\n",
    "        \n",
    "        #xent_loss = self.original_dim * metrics.binary_crossentropy(\n",
    "        #K.flatten(x_train), K.flatten(self.x_decoded))\n",
    "        #kl_loss = - 0.5 * K.sum(1 + self.z_sigma - K.square(self.z_mean) - K.exp(self.z_sigma), axis=-1)\n",
    "        #vae_loss = K.mean(xent_loss + kl_loss)\n",
    "        #self.vae_model.add_loss(vae_loss)\n",
    "        self.vae_model.compile(optimizer=\"Adam\", loss=\"categorical_crossentropy\")\n",
    "        self.vae_model.fit(x_train, x_train,\n",
    "                           validation_data=(x_val, x_val), \n",
    "                           epochs=self.epochs,\n",
    "                           batch_size=self.batch_size,\n",
    "                           callbacks=[reduce_lr, early_stopping])\n",
    "        \n",
    "    def predict(self, z_test):\n",
    "        \"\"\"\n",
    "        At test time, we evaluate the VAE's ability to generate a new sample. We can remove the \n",
    "        encoder as there is no test image. We sample z from a N(0, I), pass it through the decoder.\n",
    "        There are no good quantitative metrics, only visual appreciation.\n",
    "        \"\"\"\n",
    "        \n",
    "        return self.decoder.predict(z_test)\n",
    "     \n",
    "    def make_encoder(self):\n",
    "        \"\"\"\n",
    "        Transform the input into a distribution, composed of the mean and the variance\n",
    "        \n",
    "        Returns:\n",
    "        model -- the encoder model with the object as input and the z_mean and z_sigma \n",
    "        as output\n",
    "        \"\"\"\n",
    "        \n",
    "        enc_input = Input(shape=(self.original_dim,))\n",
    "        # We can try without the intermediate dim, directly relating input to latent z\n",
    "        x = Dense(self.intermediate_dim, activation='relu')(enc_input)\n",
    "        self.z_mean = Dense(self.latent_dim)(x)\n",
    "        self.z_sigma = Dense(self.latent_dim)(x)\n",
    "        model = Model(enc_input, outputs = [self.z_mean, self.z_sigma])\n",
    "        \n",
    "        return model\n",
    "    \n",
    "    def make_decoder(self):\n",
    "        \"\"\"\n",
    "        Decodes the latent vector z and match it with the original output\n",
    "        \n",
    "        Returns:\n",
    "        model -- the decoder model with the latent variable as input and the original object as output\n",
    "        \"\"\"\n",
    "        \n",
    "        dec_input = Input(shape=(self.latent_dim,))\n",
    "        x = Dense(self.intermediate_dim, activation='relu')(dec_input)\n",
    "        x = Dense(self.original_dim, activation='sigmoid')(x)\n",
    "        model = Model(dec_input, x)\n",
    "        \n",
    "        return model\n",
    "    \n",
    "    def sampling(self, params):\n",
    "        \"\"\"\n",
    "        Function that uses the learned mean and sigma from the data and return the latent vector z\n",
    "        This is the re-parametrization trick. Instead of taking (z -> N(z_mean, z_sigma)), we take\n",
    "        (epsilon -> N(0, I) and z = z_mean + z_sigma * epsilon). \n",
    "        Arguments:\n",
    "        z_mean -- the learned mean\n",
    "        z_sigma -- the learned standard deviation\n",
    "        \"\"\"\n",
    "        \n",
    "        z_mean, z_sigma = params\n",
    "        epsilon = K.random_normal((self.batch_size, self.latent_dim), 0.0, 1.0)\n",
    "        z = z_mean + K.exp(z_sigma / 2) * epsilon\n",
    "\n",
    "        return z\n",
    "        \n",
    "    def make_sampling_layer(self):\n",
    "        sampling_layer = Lambda(self.sampling, output_shape=(self.latent_dim,))\n",
    "        return sampling_layer\n",
    "    \n",
    "    def make_vae(self, sampling_layer, encoder, decoder):\n",
    "        \"\"\"\n",
    "        Compile the entire variational auto-encoder\n",
    "        \"\"\"\n",
    "        \n",
    "        input_ = Input(shape=(self.original_dim,))\n",
    "        z_mean, z_sigma = encoder(input_)\n",
    "        z = sampling_layer([z_mean, z_sigma])\n",
    "        self.x_decoded = decoder(z)\n",
    "        model = Model(input_, self.x_decoded)\n",
    "    \n",
    "        return model  \n",
    "    \n",
    "vae = VAE(1, 50)\n",
    "vae.fit(x_train, x_val)"
   ]
  },
  {
   "cell_type": "code",
   "execution_count": 81,
   "metadata": {},
   "outputs": [],
   "source": [
    "z_test = np.random.randn(1,100)\n",
    "pred = vae.predict(z_test)\n",
    "pred = pred.reshape((20, 20, 3))"
   ]
  },
  {
   "cell_type": "code",
   "execution_count": 82,
   "metadata": {},
   "outputs": [
    {
     "data": {
      "image/png": "[encoded data removed]",
      "text/plain": [
       "<matplotlib.figure.Figure at 0x18bc721d68>"
      ]
     },
     "metadata": {},
     "output_type": "display_data"
    }
   ],
   "source": [
    "plt.imshow(x_train[0].reshape(20, 20, 3))\n",
    "plt.show()\n",
    "\n",
    "# See if we have time to talk about conditional VAEs (CVAEs) and GAN as an extension"
   ]
  },
  {
   "cell_type": "code",
   "execution_count": 83,
   "metadata": {},
   "outputs": [
    {
     "data": {
      "image/png": "[encoded data removed]",
      "text/plain": [
       "<matplotlib.figure.Figure at 0x18bc7217b8>"
      ]
     },
     "metadata": {},
     "output_type": "display_data"
    }
   ],
   "source": [
    "plt.imshow(pred)\n",
    "plt.show()"
   ]
  },
  {
   "cell_type": "markdown",
   "metadata": {},
   "source": [
    "## III Results"
   ]
  },
  {
   "cell_type": "code",
   "execution_count": null,
   "metadata": {},
   "outputs": [],
   "source": []
  }
 ],
 "metadata": {
  "kernelspec": {
   "display_name": "Python 3",
   "language": "python",
   "name": "python3"
  },
  "language_info": {
   "codemirror_mode": {
    "name": "ipython",
    "version": 3
   },
   "file_extension": ".py",
   "mimetype": "text/x-python",
   "name": "python",
   "nbconvert_exporter": "python",
   "pygments_lexer": "ipython3",
   "version": "3.6.3"
  }
 },
 "nbformat": 4,
 "nbformat_minor": 2
}
